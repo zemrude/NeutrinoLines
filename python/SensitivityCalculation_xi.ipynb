{
 "cells": [
  {
   "cell_type": "code",
   "execution_count": 1,
   "metadata": {},
   "outputs": [],
   "source": [
    "%matplotlib inline\n",
    "import matplotlib.pylab as plt\n",
    "import matplotlib.colors as colors\n",
    "plt.style.use('seaborn-poster')\n",
    "\n",
    "import sys, os\n",
    "from iminuit import Minuit\n",
    "import numpy as np; import time; from timeout_decorator import timeout,TimeoutError\n",
    "import scipy.special as sps\n",
    "from optparse import OptionParser\n",
    "from scipy.optimize import fsolve, root\n",
    "import pickle\n",
    "\n",
    "import env\n",
    "\n",
    "\n",
    "base_path = os.environ['ANALYSIS_BASE_PATH']\n",
    "sys.path.append(base_path+'python')"
   ]
  },
  {
   "cell_type": "code",
   "execution_count": 2,
   "metadata": {},
   "outputs": [],
   "source": [
    "import importlib\n",
    "halo_spec = importlib.util.find_spec(\"halo\")\n",
    "halo_found = halo_spec is not None\n",
    "\n",
    "if halo_found:\n",
    "    from halo import Halo\n",
    "    "
   ]
  },
  {
   "cell_type": "code",
   "execution_count": 3,
   "metadata": {},
   "outputs": [
    {
     "name": "stdout",
     "output_type": "stream",
     "text": [
      "/data/ana/BSM/HT_Cascade/FinalAnalysisCode/\n"
     ]
    }
   ],
   "source": [
    "print (base_path)"
   ]
  },
  {
   "cell_type": "code",
   "execution_count": 4,
   "metadata": {},
   "outputs": [
    {
     "name": "stdout",
     "output_type": "stream",
     "text": [
      "-1.0 0.3\n"
     ]
    }
   ],
   "source": [
    "LEmasses = [40, 63, 100, 158, 251, 398, 631]\n",
    "HEmasses = [1000, 1585, 2512, 3981, 6310, 10000, 15850, 25120, 39810]\n",
    "\n",
    "all_masses = np.append(LEmasses,HEmasses)\n",
    "LECuts = [0.15,0.2]\n",
    "HECuts = [-1.0,0.3]\n",
    "mode = \"annihilation\"\n",
    "channel = \"nue\"\n",
    "profile = \"NFW\"\n",
    "systematics = \"nominal\"\n",
    "\n",
    "mass = 1000\n",
    "if mass in LEmasses:\n",
    "    LECut,HECut = LECut\n",
    "else:\n",
    "    LECut,HECut = HECuts\n",
    "print (LECut, HECut)\n",
    "nOversampling = 100\n",
    "\n",
    "bins_merge_E   = 2\n",
    "bins_merge_Psi  = 9\n"
   ]
  },
  {
   "cell_type": "code",
   "execution_count": 5,
   "metadata": {},
   "outputs": [
    {
     "name": "stdout",
     "output_type": "stream",
     "text": [
      "/PDF_nominal_DMannihilation_NFWprofile_LEBDT-1.0_HEBDT0.3_2D_nue_1000GeV_oversampling100\n"
     ]
    }
   ],
   "source": [
    "systematics_DM = 'nominal'\n",
    "\n",
    "DM_file_template = '/PDF_'+systematics_DM+'_DM'+mode+'_'+profile+'profile_LEBDT'+str(LECut)+'_HEBDT'+str(HECut)+    '_2D_'+channel+'_'+str(int(mass))+'GeV_oversampling'+str(nOversampling)\n",
    "\n",
    "print (DM_file_template)"
   ]
  },
  {
   "cell_type": "code",
   "execution_count": 6,
   "metadata": {},
   "outputs": [],
   "source": [
    "h_DM = np.load(base_path+'PDFs/'+mode+'/'+channel+'/'+systematics_DM+DM_file_template+'.pkl', allow_pickle = True, encoding='latin1')\n",
    "h_DM_quad = np.load(base_path+'PDFs/'+mode+'/'+channel+'/'+systematics_DM+DM_file_template+'_quad.pkl', allow_pickle=True, encoding='latin1')\n",
    "\n",
    "h_signal_scrambled = np.load(base_path+'PDFs/ScrambledSignal/'+mode+'/'+'/PDF_DM_FullSkyScrambled_'+mode+'_'+profile+'profile_LEBDT'+str(LECut)+'_HEBDT'+str(HECut)+'_2D_'+channel+'_'+str(int(mass))+'GeV_oversampling'+str(100)+'.pkl','r', allow_pickle=True, encoding='latin1')\n",
    "h_signal_scrambled_quad = np.load(base_path+'PDFs/ScrambledSignal/'+mode+'/'+'/PDF_DM_FullSkyScrambled_'+mode+'_'+profile+'profile_LEBDT'+str(LECut)+'_HEBDT'+str(HECut)+'_2D_'+channel+'_'+str(int(mass))+'GeV_oversampling'+str(100)+'_quad.pkl','r', allow_pickle=True, encoding='latin1')"
   ]
  },
  {
   "cell_type": "code",
   "execution_count": 7,
   "metadata": {},
   "outputs": [
    {
     "name": "stdout",
     "output_type": "stream",
     "text": [
      "/data/ana/BSM/HT_Cascade/FinalAnalysisCode/PDFs/ScrambledSignal/annihilation//PDF_DM_FullSkyScrambled_annihilation_NFWprofile_LEBDT-1.0_HEBDT0.3_2D_nue_1000GeV_oversampling100.pkl\n"
     ]
    }
   ],
   "source": [
    "print (base_path+'PDFs/ScrambledSignal/'+mode+'/'+'/PDF_DM_FullSkyScrambled_'+mode+'_'+profile+'profile_LEBDT'+str(LECut)+'_HEBDT'+str(HECut)+'_2D_'+channel+'_'+str(int(mass))+'GeV_oversampling'+str(100)+'.pkl')"
   ]
  },
  {
   "cell_type": "code",
   "execution_count": 8,
   "metadata": {},
   "outputs": [
    {
     "name": "stdout",
     "output_type": "stream",
     "text": [
      "Loading the histograms... with bkg_type: data\n"
     ]
    }
   ],
   "source": [
    "bkg_type = 'data'\n",
    "print (\"Loading the histograms... with bkg_type: %s\"%bkg_type)\n",
    "bkg_file = base_path+'PDFs/Data_scrambledFullSky/PDF_Data_ScrambleFullSky_LEBDT'+str(LECut)+'_HEBDT'+str(HECut)+'_2D'\n",
    "bkg_file_quad = bkg_file\n",
    "h_Bkg = np.load(bkg_file+'.pkl','r', allow_pickle=True, encoding='latin1')\n",
    "h_Bkg_quad = h_Bkg"
   ]
  },
  {
   "cell_type": "code",
   "execution_count": 9,
   "metadata": {},
   "outputs": [],
   "source": [
    "from utils import merge_bins"
   ]
  },
  {
   "cell_type": "code",
   "execution_count": 10,
   "metadata": {},
   "outputs": [],
   "source": [
    "#####################\n",
    "#\n",
    "# all PDFs are in units of events!\n",
    "#\n",
    "#####################\n",
    "time_tot     = 28272940. + 30674072. + 31511810.5 + 31150852. + 30059465.\n",
    "#time_tot = 1.\n",
    "hDM     = merge_bins(h_DM, time_tot,bins_merge_E, bins_merge_Psi)\n",
    "hDM_quad    = merge_bins(h_DM_quad, time_tot**2,bins_merge_E, bins_merge_Psi) \n",
    "#hDM_quad[0][hDM_quad[0]==0] = 9.\n",
    "\n",
    "hSignalScram = merge_bins(h_signal_scrambled, time_tot,bins_merge_E, bins_merge_Psi)\n",
    "hSignalScram_quad = merge_bins(h_signal_scrambled_quad, time_tot**2,bins_merge_E, bins_merge_Psi)"
   ]
  },
  {
   "cell_type": "code",
   "execution_count": 11,
   "metadata": {},
   "outputs": [],
   "source": [
    "hbkg    = merge_bins(h_Bkg, 1.,bins_merge_E, bins_merge_Psi) \n",
    "    #hbkg[0][hbkg[0]==0] = 1.\n",
    "hbkg_quad   = merge_bins(h_Bkg_quad, 1.,bins_merge_E, bins_merge_Psi)"
   ]
  },
  {
   "cell_type": "markdown",
   "metadata": {},
   "source": [
    "\n",
    "\n",
    "#np.shape(np.array(hatm)[2])\n",
    "\n",
    "fig,axs = plt.subplots(2,2,figsize=(30,30))\n",
    "pcm = axs[0,0].pcolormesh(hbkg[2],hbkg[1],hbkg[0])\n",
    "fig.colorbar(pcm, ax=axs[0,0], label='rate (Hz)')\n",
    "axs[0,0].set_title(\"Scrambled Data\", fontsize=30)\n",
    "axs[0,0].set_xlabel(r\"$\\Psi_{\\mathrm{reco}}$ (rad)\")\n",
    "axs[0,0].set_ylabel(r\"E$_{\\mathrm{reco}}$ (GeV)\")\n",
    "axs[0,0].set_yscale('log')\n",
    "\n",
    "pcm = axs[0,1].pcolormesh(hDM[2],hDM[1],hDM[0])\n",
    "fig.colorbar(pcm, ax=axs[0,1], label='rate (Hz)')\n",
    "axs[0,1].set_title(\"DM signal\", fontsize=30)\n",
    "axs[0,1].set_xlabel(r\"$\\Psi_{\\mathrm{reco}}$ (rad)\")\n",
    "axs[0,1].set_ylabel(r\"E$_{\\mathrm{reco}}$ (GeV)\")\n",
    "axs[0,1].set_yscale('log')\n",
    "\n",
    "pcm = axs[1,0].pcolormesh(hSignalScram[2],hSignalScram[1],hSignalScram[0])\n",
    "fig.colorbar(pcm, ax=axs[1,0], label='rate (Hz)')\n",
    "axs[1,0].set_title(\"DM signal scrambled\", fontsize=30)\n",
    "axs[1,0].set_xlabel(r\"$\\Psi_{\\mathrm{reco}}$ (rad)\")\n",
    "axs[1,0].set_ylabel(r\"E$_{\\mathrm{reco}}$ (GeV)\")\n",
    "axs[1,0].set_yscale('log')\n",
    "\n",
    "pcm = axs[1,1].pcolormesh(hDM[2],hDM[1],hDM[0])\n",
    "fig.colorbar(pcm, ax=axs[1,1], label='rate (Hz)')\n",
    "axs[1,1].set_title(r\"Dark Matter $\\chi\\chi \\rightarrow \\nu_e \\nu_e$ 100 GeV\")\n",
    "\n",
    "axs[1,1].set_xlabel(r\"$\\Psi_{\\mathrm{reco}}$ (rad)\")\n",
    "axs[1,1].set_ylabel(r\"E$_{\\mathrm{reco}}$ (GeV)\")\n",
    "axs[1,1].set_yscale('log')"
   ]
  },
  {
   "cell_type": "code",
   "execution_count": 12,
   "metadata": {},
   "outputs": [
    {
     "name": "stdout",
     "output_type": "stream",
     "text": [
      "22165.0 1696.2861917293415 4714.823730073624\n"
     ]
    }
   ],
   "source": [
    "print (np.sum(hbkg_quad[0]), np.sum(hSignalScram_quad[0]), np.sum(hDM_quad[0]))"
   ]
  },
  {
   "cell_type": "code",
   "execution_count": 13,
   "metadata": {},
   "outputs": [],
   "source": [
    "#Let's correct the normalization of hSignalScram I will figure out later why is not the same\n",
    "\n",
    "hSignalScrambled = np.array(hSignalScram[0])/np.sum(hSignalScram[0])*np.sum(hDM[0])\n",
    "\n"
   ]
  },
  {
   "cell_type": "code",
   "execution_count": 14,
   "metadata": {},
   "outputs": [
    {
     "name": "stdout",
     "output_type": "stream",
     "text": [
      "Total number of expected background events: 22165.0\n",
      "Initalizing the baseline pdf\n",
      " Allowing for negative signal\n",
      "Using Effective likelihood method\n"
     ]
    }
   ],
   "source": [
    "    \n",
    "#-----------------------------#\n",
    "#    use SimpleLLHanalyser    #\n",
    "#-----------------------------#\n",
    "import LLHAnalyser\n",
    "                                                 \n",
    "analysis = LLHAnalyser.Profile_Analyser_Normalised()\n",
    "analysis.saveMoreOutput()\n",
    "\n",
    "analysis.loadBackgroundPDF(np.array(hbkg[0]), True)\n",
    "analysis.loadSignalPDF(np.array(hDM[0]))\n",
    "\n",
    "\n",
    "LLH_type = 'Effective'\n",
    "#LLH_type = 'PoissonWithSignalSubtraction'\n",
    "\n",
    "#analysis.loadSignalScrambledPDF(np.array(hSignalScram[0]))    \n",
    "\n",
    "analysis.loadSignalScrambledPDF(hSignalScrambled)    \n",
    "\n",
    "if LLH_type == 'Effective':\n",
    "    analysis.loadUncertaintyPDFs(np.array(hbkg_quad[0]),np.array(hDM_quad[0]))\n",
    "    analysis.allowNegativeSignal()\n",
    "    \n",
    "elif LLH_type == 'PoissonWithSignalSubtraction':\n",
    "    analysis.loadSignalScrambledPDF(np.array(hSignalScram[0]))    \n",
    "\n",
    "elif LLH_type == 'EffectiveWithSignalSubtraction':\n",
    "    analysis.loadUncertaintyPDFs(np.array(hbkg_quad[0]),np.array(hDM_quad[0]))\n",
    "    analysis.loadSignalScrambledPDF(np.array(hSignalScram[0]))\n",
    "    analysis.loadSignalScrambledUncertaintyPDF(np.array(hSignalScram_quad[0]))    \n",
    "    \n",
    "print (\"Using %s likelihood method\"%LLH_type)\n",
    "analysis.setLLHtype(LLH_type)"
   ]
  },
  {
   "cell_type": "code",
   "execution_count": 15,
   "metadata": {},
   "outputs": [
    {
     "name": "stdout",
     "output_type": "stream",
     "text": [
      "True\n"
     ]
    }
   ],
   "source": [
    "print (analysis.AllowNegativeSignal)"
   ]
  },
  {
   "cell_type": "code",
   "execution_count": 16,
   "metadata": {},
   "outputs": [],
   "source": [
    "#analysis.allowNegativeSignal()"
   ]
  },
  {
   "cell_type": "code",
   "execution_count": 17,
   "metadata": {},
   "outputs": [],
   "source": [
    "Ntrials = 1000\n",
    "sens = analysis.CalculateSensitivity(Ntrials, 90)"
   ]
  },
  {
   "cell_type": "code",
   "execution_count": 18,
   "metadata": {},
   "outputs": [
    {
     "name": "stdout",
     "output_type": "stream",
     "text": [
      "Median sensitivity xi= 0.002339543615342641\n",
      "Median sensitivity xs= 4.515842692448362e-25\n"
     ]
    }
   ],
   "source": [
    "print('Median sensitivity xi=',sens['median'])\n",
    "print('Median sensitivity xs=',sens['median']*np.sum(hbkg[0])/np.sum(hDM[0])*10**-23)"
   ]
  },
  {
   "cell_type": "code",
   "execution_count": 20,
   "metadata": {},
   "outputs": [
    {
     "data": {
      "text/plain": [
       "238.06967442811583"
      ]
     },
     "execution_count": 20,
     "metadata": {},
     "output_type": "execute_result"
    }
   ],
   "source": [
    "analysis.evaluateLLH(0.1)-analysis.evaluateLLH(0)\n"
   ]
  },
  {
   "cell_type": "code",
   "execution_count": 21,
   "metadata": {},
   "outputs": [
    {
     "name": "stdout",
     "output_type": "stream",
     "text": [
      "[0.0, 0.0, 0.03824232003535144, 2.3427304621145595, 0.0, 0.0, 0.0, 0.0390614727512002, 0.0, 0.419522173673613, 0.13076005774200894, 2.8026196673163213, 0.19413733642431907, 0.0, 0.05213406923576258, 0.2115693593514152, 0.0, 0.0, 0.0, 0.1031175140524283, 0.0, 0.0, 0.0, 0.0, 0.0, 2.773864700924605, 0.2357929722056724, 0.0, 0.004605149384588003, 1.209424834116362, 0.0, 0.017520687339128926, 0.0, 0.0, 0.04740845653577708, 1.4344045808247756, 1.8596799149527214, 0.01092482783133164, 0.34238031262066215, 1.8196190797898453, 0.0, 0.05442417153972201, 0.6135901876259595, 1.4470701974641997, 0.82567084627226, 0.24630905970116146, 0.18788568046875298, 0.2749206258158665, 1.0244969954364933, 0.0, 0.4374167902569752, 0.13237199425930157, 0.20838280199677683, 0.0, 0.13594324470614083, 0.5662518956523854, 0.0, 0.0, 0.8767591336218175, 0.1186906268412713, 0.0, 0.11408977361861616, 0.0, 0.0, 0.0, 0.26504302938701585, 0.0, 0.0, 0.0, 0.0006667560955975205, 0.7043883943115361, 0.386137078050524, 0.05606599783641286, 0.0, 0.0, 0.10409258317667991, 0.24414740459178574, 0.0, 0.09880425161099993, 0.0, 0.0, 0.22117882978636771, 0.0, 0.41922687721671537, 0.15157497284235433, 0.13737999778822996, 0.055513714672997594, 0.008314409817103297, 0.0, 0.6761584734194912, 0.0, 0.0, 0.0, 0.0, 0.0, 0.0, 0.0, 0.35173484080587514, 0.0, 0.0, 0.015000846120528877, 1.299577005818719, 0.0, 0.4344795957149472, 0.5928042108716909, 0.0, 0.0, 0.0, 1.7654047494288534, 0.0, 0.08853880234528333, 0.0, 0.0, 4.176296949968673, 0.011751429730793461, 1.8889353419654071, 0.01766816622694023, 0.0, 0.1351292191829998, 0.0, 0.0037854026013519615, 0.0, 0.0, 0.0, 0.0, 0.0, 0.0, 0.0, 0.25075576204108074, 0.0, 0.01272874022834003, 1.4901969186612405, 0.9164292033237871, 0.0, 0.35421405575471, 0.874907566641923, 0.07105074828723446, 0.0, 0.6352020759368315, 0.0, 5.541398422792554e-05, 0.0, 0.0, 0.0, 0.023769275343511254, 0.0, 0.2005576917435974, 0.37220477568916976, 0.0, 0.0, 0.0, 0.0, 0.0, 0.0, 0.005430099292425439, 0.0, 1.343320101936115, 0.40469553018920124, 0.0, 0.01827888929983601, 0.0, 0.0, 0.0, 1.392754873028025, 0.0, 0.0014692405238747597, 0.0, 0.0008656963764224201, 0.48057092883391306, 0.044818141468567774, 0.34099934936966747, 0.6185293592279777, 0.0, 0.0, 0.0, 0.0, 0.0, 0.04833017467171885, 0.6229727251338772, 0.004236653010593727, 0.0, 0.0, 0.5985178090049885, 0.03163271542871371, 0.5837881911429577, 0.403729751938954, 0.019837455067317933, 0.002031035692198202, 0.3817029037163593, 0.0, 0.18842871018568985, 0.953429092944134, 0.0, 0.016706339170923457, 0.0, 0.0, 0.0824253641476389, 0.840568182466086, 1.9528680977527983, 0.21464139231829904, 0.0, 1.2431119102984667e-05, 0.4395360433845781, 0.0, 0.009928451210726053, 0.0, 0.0, 0.20594723304384388, 0.0, 0.2852218686894048, 0.0, 0.0, 0.0, 0.5962439482973423, 0.14000515372026712, 0.9504440397431608, 0.0, 0.0, 0.0, 4.837413105473388, 0.0, 0.0001645005540922284, 0.0, 2.4973257972160354, 0.0, 0.0, 0.021575179853243753, 0.0, 1.9536766626115423, 0.0, 0.0, 2.310620984819252, 0.018933424376882613, 0.030026022344827652, 0.044492098124464974, 0.0032408826518803835, 0.34240730162127875, 0.40752316181897186, 0.0, 0.13756372974603437, 0.0, 0.0, 0.0, 0.39018863369710743, 0.0, 0.5227231874596328, 0.14272172006894834, 0.0, 0.23725231102434918, 0.2397535690688528, 0.019565157359465957, 0.0, 0.479033587675076, 0.0, 0.0, 0.07946217802236788, 0.1951908961054869, 0.0, 1.860558161395602, 0.013450780155835673, 0.5992486310424283, 0.0012168519897386432, 0.0, 0.18674975220346823, 0.42264718472142704, 0.0, 0.0, 0.169231130334083, 0.0, 1.7230303145188373, 0.01749257239862345, 0.0, 0.009712147060781717, 0.054445467510959134, 0.0, 0.0, 0.0, 0.0, 0.04513345711166039, 0.0, 1.8131102951592766, 0.2011246730107814, 0.2823259288270492, 0.09871556865982711, 0.1585684038582258, 0.0, 0.0002622655010782182, 0.0, 8.317123865708709e-05, 0.01897072119754739, 0.0024497341946698725, 1.1238860498124268, 0.26886875118361786, 0.0, 0.0, 0.04748611606191844, 0.0, 0.0, 0.1330369932402391, 0.24661686827312224, 0.0, 0.6617598176235333, 0.0, 0.0, 0.6762576241453644, 0.2592963121132925, 0.037351747625507414, 0.5997833688161336, 0.0, 0.0, 0.0, 1.1999074222403578, 0.10945185564924031, 0.9812806468398776, 0.0, 0.0, 0.0, 0.0, 0.0025150330911856145, 1.0311735838477034, 0.0, 2.6230613002553582e-05, 0.06350393724278547, 0.0, 1.6463361569622066, 0.2035260254633613, 0.0, 0.13027490631793626, 0.6706964751938358, 0.7506971378752496, 0.18357973918318748, 0.0, 0.0, 0.21868334710597992, 1.1615315968520008, 0.0, 0.0033264454104937613, 0.34395114760263823, 0.0, 0.0, 0.22888291595154442, 0.39890417136484757, 0.3063430082402192, 0.0, 0.0, 0.0, 0.0, 0.7276393502543215, 0.0058106011711061, 0.05003911448875442, 0.0, 0.0, 0.0, 0.0, 0.023002160771284252, 0.0, 0.0, 0.0030533512181136757, 0.0, 0.07554983871523291, 0.0, 0.0, 0.4867951193009503, 0.0, 0.05620437616016716, 0.12493395525962114, 0.001779775513568893, 0.01326820973190479, 6.747670704498887e-05, 1.5712097191717476, 0.21450472669675946, 0.0005166450573597103, 0.15339907578891143, 0.0, 0.0, 0.4400028318341356, 2.075247150467476, 0.05045968931517564, 0.0, 0.0, 0.6667453879781533, 0.7308296881965362, 0.0, 3.641587682068348e-06, 1.6707801903248765, 0.0, 0.07850711926585063, 0.0, 0.0, 0.0, 0.3560295471397694, 1.0344972874736413, 0.0, 0.0, 0.9848245827597566, 0.9611470496747643, 0.0, 0.0, 1.9375347883324139, 0.5221674287458882, 0.6383556933142245, 0.0, 0.49590749756316654, 0.00618153007235378, 0.0, 0.0, 0.0, 0.0, 2.782281476946082, 1.3868357710016426, 0.6363335938367527, 0.0, 0.00020571111235767603, 0.31024026227532886, 0.0, 1.667037263745442, 0.0, 0.0, 0.147342693147948, 0.004885388596449047, 0.008069920091656968, 0.4737687526794616, 0.08304511432652362, 0.04668557160766795, 0.0, 0.0, 0.3509201937704347, 0.0, 0.29740477839368396, 0.05464171263156459, 0.0, 0.13625763994059525, 1.335912851325702, 0.025562456517945975, 0.10156036497210152, 0.0, 0.0, 0.0, 5.988404154777527e-06, 0.15513140163966455, 0.0, 0.0013867754896637052, 0.6998375201364979, 0.00039241844206117094, 0.0, 0.13412497757235542, 1.0021382910490502, 0.0, 0.07163557803141885, 1.456111653445987, 0.0, 0.0, 0.0, 1.0000497809669469, 0.6173063880414702, 0.0, 0.0, 0.0, 0.1592771899595391, 0.0, 0.0, 0.0, 0.0716519360721577, 0.0, 2.3422723588882945, 0.01636321161640808, 1.346954207867384, 0.3325055809109472, 0.0, 0.0, 0.0019288860203232616, 0.0, 0.0, 0.0, 0.89571859370335, 0.0, 0.665091122064041, 0.07146634647506289, 0.19692375481827185, 0.0, 0.0, 0.297324946266599, 0.0, 0.0855263244593516, 0.0, 0.4601774447655771, 0.0006905710615683347, 0.5185280763544142, 0.0, 0.0, 0.0, 0.0, 0.0, 0.0, 0.0, 0.30645023338729516, 1.7879268852993846e-05, 0.0, 0.15817479568067938, 0.4372786632447969, 0.0, 0.0, 0.754766958008986, 0.031159977748757228, 0.8708138788642827, 0.011356750066624954, 0.0, 1.6706765748676844, 1.2506082299805712, 0.0, 0.0, 0.0, 0.0, 0.0, 0.26793989492580295, 0.0, 0.5257157563755754, 0.0, 0.9416387846576981, 0.027727220731321722, 0.3017507513286546, 0.0, 0.0, 0.0, 0.45926319315913133, 0.0, 0.0, 0.009590926812961698, 0.13802980739274062, 0.0, 0.0, 0.0, 0.15871074795722961, 0.0, 0.08733166274032556, 0.3049194144841749, 0.0, 0.0, 2.2555013776000123, 0.022778721380745992, 0.0, 0.01720961948740296, 0.0, 0.36347239013412036, 0.0012615725863724947, 0.5407185247167945, 0.5225889204011764, 0.7393046937067993, 2.2975392579101026, 0.8495793473266531, 0.011747370415832847, -3.466813359409571e-05, 0.0, 1.981249776261393, 0.1480664135888219, 0.0, 1.522773424629122, 0.640374822949525, 0.0795846888795495, 0.02882300890632905, 0.0, 0.0046653475146740675, 0.0, 0.0, 1.5029132604540791, 0.0, 0.0, 0.0, 0.3901413641287945, 0.0, 0.40568581596016884, 0.0, 2.569894871325232, 0.0, 0.0, 0.8346432659891434, 0.29047627389081754, 0.641132993856445, 0.0, 0.32912198718986474, 0.06304204277694225, 0.0, 0.0, 0.8332965090521611, 0.0, 1.2854192897793837, 0.0, 0.0, 0.2203646020789165, 0.023731991183012724, 0.0, 0.015787326730787754, 0.0, 0.0, 0.17408820643322542, 0.0, 0.15299774231971242, 0.0, 1.001683268463239, 0.1930908832582645, 0.0, 0.0923857782036066, 0.004450486972928047, 0.12500682164682075, 0.1762941544293426, 0.7988674853404518, 1.7773767467588186e-05, 2.255667424411513, 0.459413233329542, 1.6870125082787126, 2.2044564688112587, 0.0, 0.6575852641835809, 0.0, 0.0024829654139466584, 0.19025243472424336, 0.0, 1.8638411423598882, 0.4936991907306947, 0.0, 0.0, 0.3448116394865792, 0.2887132265313994, 0.0, 0.08565572230145335, 1.50708419419243, 0.0, 0.6427972644451074, 0.008909875643439591, 0.029317933513084427, 0.28589141674456187, 0.0, 0.0, 0.0, 0.6726337309519295, 0.0, 0.3098764519090764, 0.0, 0.009728158183861524, 0.0, 0.0026207460614386946, 0.8696414949372411, 0.0, 0.017940772930160165, 0.0, 0.4178624855703674, 0.10340658738277853, 0.500381610909244, 0.03505441517336294, 0.0, 0.0, 0.7043065126345027, 0.2596421657362953, 0.0, 0.0, 0.0, 0.5614323608460836, 0.0, 0.0, 0.40846653215703554, 0.0, 1.411916893615853, 0.0502313727629371, 0.0, 0.10433217164245434, 0.0003123668138869107, 0.0, 0.0, 0.0, 0.2445871340460144, 0.6662582166609354, 0.0, 0.0, 0.0, 0.0, 0.0, 0.0, 0.0, 0.9297101811971515, 0.08508143146173097, 0.08769446221413091, 2.1863014507689513, 0.695698384748539, 0.0, 0.0, 0.00034053385024890304, 0.0, 0.0, 0.833289192582015, 0.0, 0.04190327023388818, 0.5026143803843297, 1.4483625495340675, 0.0, 0.0, 0.0, 0.0, 0.0, 0.41929739678744227, 0.0, 0.3075136962288525, 0.06905593565898016, 0.004217916837660596, 0.0, 0.20053586171707138, 0.0, 0.191687108570477, 0.5855101369088516, 1.3973387748119421, 0.13516797038028017, 0.3645829697488807, 0.3136371828732081, 0.0, 0.00016162695828825235, 0.2687069205858279, 0.0, 0.5037771279748995, 0.28857873345259577, 0.0, 0.0, 0.5491545535332989, 0.5858857736166101, 0.7610029013012536, 0.4067707289941609, 0.0, 0.0, 0.0, 0.0, 0.07681701524415985, 0.024533249088563025, 0.0, 0.43346151398145594, 0.0, 0.11885810637613758, 0.0, 0.0, 0.0, 0.0, 1.1369202688219957, 0.0, 0.0006245451222639531, 0.0, 0.0, 0.5027532833628356, 0.003233673865906894, 0.016066228097770363, 0.07267242597299628, 0.024763860448729247, 0.16102710794075392, 0.0, 0.0, 0.36878845549654216, 0.5650877598382067, 0.0, 0.0, 0.0, 0.40952214057324454, 0.0, 0.0, 0.0, 0.001065076794475317, 0.014047560864128172, 0.30340046726632863, 0.0, 0.0, 0.0, 0.0, 1.376026389945764, 0.010869823716348037, 0.9651688544254284, 0.6417306850489695, 0.0, 0.0, 0.11808661330724135, 0.0, 0.020908340229652822, 0.0, 0.0, 0.11099631746765226, 0.48184125212719664, 0.0, 0.05921712293638848, 0.0, 0.2992472212354187, 1.734717904619174, 0.0, 0.0, 0.4237057192076463, 0.07360516398330219, 0.0, 0.0, 0.4897468267008662, 0.0, 0.5505499119171873, 0.0, 0.0, 0.004892221564659849, 0.7277005758369341, 0.6291399165638722, 0.0, 0.26700216133031063, 0.0, 0.3602825352572836, 0.0011197277926839888, 0.13052598672220483, 0.2734524680126924, -28.40200010634726, 0.0027195319707971066, 0.9196403879614081, 0.683630832209019, 1.0102047467371449, 0.0, 0.0, 1.2412188367452472, 0.6791166873881593, 0.0, 0.1798228891857434, 0.44623046735068783, 0.0, 0.0, 0.0, 0.0, 0.0, 1.5293275419971906, 0.9079863656952512, 0.5031639263615943, 1.310201569373021, 0.27206296773510985, 0.0, 0.0, 0.0, 0.0, 0.0, 0.0, 0.046862939023412764, 0.0, 0.463590143393958, 0.0, 0.0, 0.0, 0.0, 1.0174485726165585, 0.08025251014623791, 0.4013049178174697, 0.0, 0.000953305047005415, 0.0, 0.301693168876227, 0.02560329530388117, 0.0, 0.08754460437921807, 0.9014991543954238, 0.0, 0.0, 0.23028089076979086, 0.0, 0.0, 1.286145128251519, 0.3777124140178785, 0.0, 0.07773246633587405, 0.46032527353963815, 0.0, 0.0, 0.10292590167955495, 0.0, 0.8823048934282269, 2.1211024336807895, 0.0005054895882494748, 0.004840096487896517, 0.7993989603710361, 0.3976045154267922, 0.1798869759659283, 0.767853988771094, 0.0, 0.30270722749992274, 0.0, 1.3290264837851282, 0.08459068409865722, 0.45225429633865133, 0.0, 0.0, 0.0, 0.0, 0.0012561977200675756, 0.04486668200115673, 0.0, 0.0, 0.4146265866002068, 0.0, 0.0, 0.0, 0.008677359932335094, 0.0, 0.0, 0.005377250141464174, 0.04564169514924288, 0.4414389584271703, 0.12148948916001245, 0.4547042806225363, 1.5935861291072797, 0.22882916714297608, 0.0, 0.0, 0.3593903558794409, 0.0, 0.0, 0.0006164712540339679, 0.04115402896422893, 0.0, 0.0, 0.03747738784295507, 0.10858329755137675, 0.295912827947177, 0.0, 0.0, 0.0, 0.0, 0.0, 0.0, 0.4074639624741394, 0.0, 0.0, 0.0, 0.0, 1.063101445499342, 2.4283961472974624, 0.019270602148026228, 0.26229909324320033, 1.5498971603810787, 0.10686439374694601, 0.0, 0.3032734375738073, 0.0, 0.0, 0.5001740624429658, 0.0, 0.0, 0.78637254316709, 0.3316262061998714, 0.009590900677721947, 0.0, 0.0, 0.0, 0.025570879370206967, 0.0, 0.0, 0.0, 1.5576459308504127, 0.2937926909944508, 0.21807862995774485, 0.0, 0.0, 0.0, 0.050345733761787415, 0.0, 0.9005671865306795, 0.0, 1.954916621412849, 0.14429187987116165, 0.0, 0.0, 0.0, 0.09902894869446754, 0.0, 0.0, 2.155621426354628, 0.43183845275780186, 0.08622987288981676, 1.5930125685990788, 0.025720804173033684, 0.0, 0.34243543006596155, 0.0, 0.0, 0.0, 0.0, 0.06665308331139386, 0.42519745187019, 0.8364467631909065, 0.20463012155960314, 0.28387147234752774, 0.5132187904964667, 0.2156214834540151, 0.0, 0.0, 0.0, 0.31583022471750155, 0.0, 0.30490022743470035, 0.07238589558983222, 0.0, 0.03441428521182388, 0.01579362974734977, 0.0, 0.0, 0.0, 0.012214427028084174, 0.3902443608676549, 0.0]"
     ]
    },
    {
     "name": "stdout",
     "output_type": "stream",
     "text": [
      "\n",
      "Median TS 0.0022403849434340373\n"
     ]
    }
   ],
   "source": [
    "print(sens['TS_dist'])\n",
    "print(\"Median TS\", np.percentile(sens['TS_dist'], 50))"
   ]
  },
  {
   "cell_type": "markdown",
   "metadata": {},
   "source": [
    "#We want a precison of 90 +/- 1 %\n",
    "mean, sens_neyman = analysis.CalculateFrequentistSensitivity(90, 0.5)"
   ]
  },
  {
   "cell_type": "code",
   "execution_count": 22,
   "metadata": {},
   "outputs": [
    {
     "ename": "NameError",
     "evalue": "name 'sens_neyman' is not defined",
     "output_type": "error",
     "traceback": [
      "\u001b[0;31m---------------------------------------------------------------------------\u001b[0m",
      "\u001b[0;31mNameError\u001b[0m                                 Traceback (most recent call last)",
      "\u001b[0;32m<ipython-input-22-88b2bce7cca7>\u001b[0m in \u001b[0;36m<module>\u001b[0;34m\u001b[0m\n\u001b[0;32m----> 1\u001b[0;31m \u001b[0mTS_sens\u001b[0m \u001b[0;34m=\u001b[0m \u001b[0mnext\u001b[0m\u001b[0;34m(\u001b[0m\u001b[0ms\u001b[0m\u001b[0;34m[\u001b[0m\u001b[0;34m'TS_dis'\u001b[0m\u001b[0;34m]\u001b[0m \u001b[0;32mfor\u001b[0m \u001b[0ms\u001b[0m \u001b[0;32min\u001b[0m \u001b[0msens_neyman\u001b[0m \u001b[0;32mif\u001b[0m \u001b[0ms\u001b[0m\u001b[0;34m[\u001b[0m\u001b[0;34m'xi'\u001b[0m\u001b[0;34m]\u001b[0m \u001b[0;34m==\u001b[0m \u001b[0mmean\u001b[0m\u001b[0;34m)\u001b[0m\u001b[0;34m\u001b[0m\u001b[0;34m\u001b[0m\u001b[0m\n\u001b[0m",
      "\u001b[0;31mNameError\u001b[0m: name 'sens_neyman' is not defined"
     ]
    }
   ],
   "source": [
    "TS_sens = next(s['TS_dis'] for s in sens_neyman if s['xi'] == mean)"
   ]
  },
  {
   "cell_type": "code",
   "execution_count": 20,
   "metadata": {},
   "outputs": [
    {
     "data": {
      "image/png": "[encoded data removed]",
      "text/plain": [
       "<Figure size 720x720 with 1 Axes>"
      ]
     },
     "metadata": {
      "needs_background": "light"
     },
     "output_type": "display_data"
    }
   ],
   "source": [
    "%matplotlib inline\n",
    "from scipy.stats import chi2\n",
    "x = np.arange(0, 4, 0.01)\n",
    "df = 1\n",
    "rv = chi2(df)\n",
    "\n",
    "from scipy import signal\n",
    "imp = signal.unit_impulse(np.size(x),1)\n",
    "\n",
    "#bins = np.linspace(0, 10, 50)\n",
    "fig, ax = plt.subplots(1,1,figsize=(10,10))\n",
    "ax.plot(x, 0.5*imp + 0.5*rv.pdf(x), label =r\"$\\frac{1}{2}\\delta + \\frac{1}{2}\\chi^2$(1 d.o.f)\")\n",
    "ax.hist(sens['TS_dist'], 50, density=True, label=\"%i Trials\"%Ntrials)\n",
    "#ax.hist(TS_sens, bins, density=True, label=\"%i Trials\"%Ntrials, histtype=\"step\", linewidth=5)\n",
    "ax.set_yscale('log')\n",
    "ax.set_title(r\"$m_\\chi$ = %.1f GeV\"%mass)\n",
    "ax.set_ylabel(\"# trials (norm)\")\n",
    "ax.set_xlabel(\"TS\")\n",
    "#ax.set_xlim(0,3)\n",
    "ax.legend()\n",
    "ax.grid()"
   ]
  },
  {
   "cell_type": "code",
   "execution_count": 21,
   "metadata": {},
   "outputs": [
    {
     "name": "stdout",
     "output_type": "stream",
     "text": [
      "Median sensitivity xs= 4.2653136788603375e-25\n",
      "Median Freq sensitivity xs= 4.705097645765395e-25\n"
     ]
    }
   ],
   "source": [
    "print('Median sensitivity xs=',sens['median']*np.sum(hbkg[0])/np.sum(hDM[0])*10**-23)\n",
    "print('Median Freq sensitivity xs=',mean*np.sum(hbkg[0])/np.sum(hDM[0])*10**-23)"
   ]
  },
  {
   "cell_type": "code",
   "execution_count": null,
   "metadata": {},
   "outputs": [],
   "source": []
  }
 ],
 "metadata": {
  "kernelspec": {
   "display_name": "Python 3",
   "language": "python",
   "name": "python3"
  },
  "language_info": {
   "codemirror_mode": {
    "name": "ipython",
    "version": 3
   },
   "file_extension": ".py",
   "mimetype": "text/x-python",
   "name": "python",
   "nbconvert_exporter": "python",
   "pygments_lexer": "ipython3",
   "version": "3.7.5"
  }
 },
 "nbformat": 4,
 "nbformat_minor": 2
}
